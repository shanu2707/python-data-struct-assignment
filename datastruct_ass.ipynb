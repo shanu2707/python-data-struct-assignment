{
 "cells": [
  {
   "cell_type": "markdown",
   "id": "92708744-73b1-4379-a817-030ab66823c3",
   "metadata": {},
   "source": [
    "### 1. Discuss string slicing and provide examples.\n",
    "   Slicing of string means extraction of a substring from a string.It follows the format string[start:end],\n",
    "   where start is the index where slicing begins(inclusive) and end is the index where it ends(exclusive).\n",
    "   \n",
    "   FOR EXAMPLE:\n"
   ]
  },
  {
   "cell_type": "code",
   "execution_count": 2,
   "id": "f5a899dc-1ae3-409e-be12-c415b7b6311a",
   "metadata": {},
   "outputs": [
    {
     "data": {
      "text/plain": [
       "'I can'"
      ]
     },
     "execution_count": 2,
     "metadata": {},
     "output_type": "execute_result"
    }
   ],
   "source": [
    "s=\"I can do anything\"\n",
    "s[0:5] # 5 is exclusive[a,b]>>it will give result till b-1 index."
   ]
  },
  {
   "cell_type": "code",
   "execution_count": 3,
   "id": "17f7814b-9ab8-4a46-81c5-10701859762f",
   "metadata": {},
   "outputs": [
    {
     "data": {
      "text/plain": [
       "'I can do anything'"
      ]
     },
     "execution_count": 3,
     "metadata": {},
     "output_type": "execute_result"
    }
   ],
   "source": [
    "s=\"I can do anything\"\n",
    "s[0:] # start_index:end_index>>if we not provide end index,it will be default give substring till the last index."
   ]
  },
  {
   "cell_type": "code",
   "execution_count": 4,
   "id": "4d7ed63d-8c1b-4bf2-836c-43992ad67665",
   "metadata": {},
   "outputs": [
    {
     "data": {
      "text/plain": [
       "'I can do anyth'"
      ]
     },
     "execution_count": 4,
     "metadata": {},
     "output_type": "execute_result"
    }
   ],
   "source": [
    "#access all the characters except the last three character>>\n",
    "s=\"I can do anything\"\n",
    "s[:-3]"
   ]
  },
  {
   "cell_type": "code",
   "execution_count": 5,
   "id": "b33ff696-021d-4966-b664-63696c539e25",
   "metadata": {},
   "outputs": [
    {
     "data": {
      "text/plain": [
       "'ing'"
      ]
     },
     "execution_count": 5,
     "metadata": {},
     "output_type": "execute_result"
    }
   ],
   "source": [
    "#access only last three characters>>\n",
    "s=\"I can do anything\"\n",
    "s[-3:]"
   ]
  },
  {
   "cell_type": "code",
   "execution_count": 7,
   "id": "57a5849c-e12a-4b15-9538-d675304381f5",
   "metadata": {},
   "outputs": [
    {
     "data": {
      "text/plain": [
       "'Hl'"
      ]
     },
     "execution_count": 7,
     "metadata": {},
     "output_type": "execute_result"
    }
   ],
   "source": [
    "s=\"Hello\"\n",
    "s[0:4:2] # start:end:step>>here step access the character by leaving the character by step"
   ]
  },
  {
   "cell_type": "code",
   "execution_count": 8,
   "id": "af1c7ece-8453-419e-a5c3-e6b8cd573bfa",
   "metadata": {},
   "outputs": [
    {
     "data": {
      "text/plain": [
       "'inilahS'"
      ]
     },
     "execution_count": 8,
     "metadata": {},
     "output_type": "execute_result"
    }
   ],
   "source": [
    "# if we want to start from the end ,move to beginning and step backwards by one character>>\n",
    "s=\"Shalini\"\n",
    "s[::-1]#reverse order iteration"
   ]
  },
  {
   "cell_type": "markdown",
   "id": "a466e84f-9132-41b4-8915-0fd947a9c790",
   "metadata": {},
   "source": [
    "### 2. Explain the key features of lists in Python.\n",
    "    The key features of lists in Python are:\n",
    "    \n",
    "    "
   ]
  },
  {
   "cell_type": "markdown",
   "id": "692e66ee-ba23-44f8-b6fd-4e7a13f7fc0b",
   "metadata": {},
   "source": [
    "1.Lists are ordered collection of items-:"
   ]
  },
  {
   "cell_type": "code",
   "execution_count": 1,
   "id": "c5c85375-7e1b-4282-99c4-1f2d6e2c626d",
   "metadata": {},
   "outputs": [
    {
     "data": {
      "text/plain": [
       "['Milk', 'Orange', 'Apple', 'Banana']"
      ]
     },
     "execution_count": 1,
     "metadata": {},
     "output_type": "execute_result"
    }
   ],
   "source": [
    "grocery_list=[\"Milk\",\"Orange\",\"Apple\",\"Banana\"]\n",
    "grocery_list"
   ]
  },
  {
   "cell_type": "markdown",
   "id": "94f925da-9f6f-44b4-a27f-57d961decdff",
   "metadata": {},
   "source": [
    "2.Lists can store any data type-: It can store heterogenous data."
   ]
  },
  {
   "cell_type": "code",
   "execution_count": 3,
   "id": "8c104cc9-9cc4-4a8f-bc3f-f5722a4bafe8",
   "metadata": {},
   "outputs": [
    {
     "data": {
      "text/plain": [
       "[1, 'Shanu', 3.4, 'Pwskills', True]"
      ]
     },
     "execution_count": 3,
     "metadata": {},
     "output_type": "execute_result"
    }
   ],
   "source": [
    "l=[1,\"Shanu\",3.4,'Pwskills',True]\n",
    "l"
   ]
  },
  {
   "cell_type": "markdown",
   "id": "c18e49cf-ca33-4bd6-a7bc-7228845fdbfd",
   "metadata": {},
   "source": [
    "3.Lists are Mutable-: Once a list has been created,elements can be added,deleted and shifted."
   ]
  },
  {
   "cell_type": "code",
   "execution_count": 4,
   "id": "8af316b5-f1b2-474f-8ca0-4c86b81ccf19",
   "metadata": {},
   "outputs": [
    {
     "data": {
      "text/plain": [
       "['Milk', 'Orange', 'Apple', 'Banana', 'Mango']"
      ]
     },
     "execution_count": 4,
     "metadata": {},
     "output_type": "execute_result"
    }
   ],
   "source": [
    "#Adding element to the list>>\n",
    "grocery_list=[\"Milk\",\"Orange\",\"Apple\",\"Banana\"]\n",
    "grocery_list.append(\"Mango\")\n",
    "grocery_list"
   ]
  },
  {
   "cell_type": "code",
   "execution_count": 7,
   "id": "b4a8e63a-6182-4394-b9ea-43ba2f827784",
   "metadata": {},
   "outputs": [
    {
     "data": {
      "text/plain": [
       "['Milk', 'Apple', 'Banana', 'Mango']"
      ]
     },
     "execution_count": 7,
     "metadata": {},
     "output_type": "execute_result"
    }
   ],
   "source": [
    "#Remove element from the list>>\n",
    "grocery_list=[\"Milk\",\"Orange\",\"Apple\",\"Banana\",\"Mango\"]\n",
    "grocery_list.remove(\"Orange\")\n",
    "grocery_list"
   ]
  },
  {
   "cell_type": "code",
   "execution_count": 11,
   "id": "029a9b51-7729-46f5-b5c3-00d60082a851",
   "metadata": {},
   "outputs": [
    {
     "data": {
      "text/plain": [
       "['Milk', 'Pomygranate', 'Orange', 'Apple', 'Banana', 'Mango']"
      ]
     },
     "execution_count": 11,
     "metadata": {},
     "output_type": "execute_result"
    }
   ],
   "source": [
    "#Insert object before index>>\n",
    "grocery_list=[\"Milk\",\"Orange\",\"Apple\",\"Banana\",\"Mango\"]\n",
    "grocery_list.insert(1,\"Pomygranate\")\n",
    "grocery_list"
   ]
  },
  {
   "cell_type": "code",
   "execution_count": 13,
   "id": "810a8053-5dc7-48f6-a1a0-bea9a116498c",
   "metadata": {},
   "outputs": [
    {
     "data": {
      "text/plain": [
       "['Milk', 'Orange', 'Apple', 'Banana', 'Mango', 'Potato', 'Tomato', 'Chilli']"
      ]
     },
     "execution_count": 13,
     "metadata": {},
     "output_type": "execute_result"
    }
   ],
   "source": [
    "#Extend >>used to append elements from another list>>\n",
    "grocery_list_1=[\"Milk\",\"Orange\",\"Apple\",\"Banana\",\"Mango\"]\n",
    "grocery_list_2=[\"Potato\",\"Tomato\",\"Chilli\"]\n",
    "grocery_list_1.extend(grocery_list_2) # It will extend the first list\n",
    "grocery_list_1"
   ]
  },
  {
   "cell_type": "markdown",
   "id": "b66d469e-61e8-491d-899b-698fcbbaac49",
   "metadata": {},
   "source": [
    "4.List's elements can be accessed by index-:"
   ]
  },
  {
   "cell_type": "code",
   "execution_count": 8,
   "id": "2c155297-42bc-4f1a-b130-d817fd606ffb",
   "metadata": {},
   "outputs": [
    {
     "data": {
      "text/plain": [
       "['Guava', 'Orange', 'Apple', 'Banana', 'Mango']"
      ]
     },
     "execution_count": 8,
     "metadata": {},
     "output_type": "execute_result"
    }
   ],
   "source": [
    "grocery_list=[\"Milk\",\"Orange\",\"Apple\",\"Banana\",\"Mango\"]\n",
    "grocery_list[0]=\"Guava\"\n",
    "grocery_list"
   ]
  },
  {
   "cell_type": "code",
   "execution_count": 9,
   "id": "0b029f9c-8113-44dd-bf40-9441bf3687c3",
   "metadata": {},
   "outputs": [
    {
     "data": {
      "text/plain": [
       "['Orange', 'Apple', 'Banana', 'Mango']"
      ]
     },
     "execution_count": 9,
     "metadata": {},
     "output_type": "execute_result"
    }
   ],
   "source": [
    "grocery_list[1:] # from'1' index to last"
   ]
  },
  {
   "cell_type": "code",
   "execution_count": 10,
   "id": "d9915fac-fe00-46a9-9503-89f6001ef973",
   "metadata": {},
   "outputs": [
    {
     "data": {
      "text/plain": [
       "'Banana'"
      ]
     },
     "execution_count": 10,
     "metadata": {},
     "output_type": "execute_result"
    }
   ],
   "source": [
    "grocery_list[-2]#negative indexing"
   ]
  },
  {
   "cell_type": "markdown",
   "id": "e1883e3c-1824-4f6b-bfd8-bcf4e5780c4a",
   "metadata": {},
   "source": [
    "5.List Comprehenshion-:Concise code"
   ]
  },
  {
   "cell_type": "code",
   "execution_count": 21,
   "id": "eaf3d0d5-66c5-4154-96f9-e8caa5b09f3b",
   "metadata": {},
   "outputs": [
    {
     "name": "stdout",
     "output_type": "stream",
     "text": [
      "[20, 40, 60, 80, 100]\n"
     ]
    }
   ],
   "source": [
    "prices=[10,20,30,40,50]\n",
    "doubled_prices=[price*2 for price in prices]\n",
    "print(doubled_prices)"
   ]
  },
  {
   "cell_type": "markdown",
   "id": "6317f781-16d7-44d3-9bdf-ecd1ffa824ec",
   "metadata": {},
   "source": [
    "### 3. Describe how to access , modify , and delete elements in a list with examples."
   ]
  },
  {
   "cell_type": "markdown",
   "id": "18742edd-482b-4ccf-bda3-3eb8c6f1dfb6",
   "metadata": {},
   "source": [
    "We can access the elements in a list by indexing and slicing method."
   ]
  },
  {
   "cell_type": "code",
   "execution_count": 24,
   "id": "add95d80-0918-4790-b7a0-b04041d1b201",
   "metadata": {},
   "outputs": [
    {
     "data": {
      "text/plain": [
       "'Priyanshu'"
      ]
     },
     "execution_count": 24,
     "metadata": {},
     "output_type": "execute_result"
    }
   ],
   "source": [
    "#Access the elements by indexing>>\n",
    "name_list=[\"Shanu\",\"Shivam\",\"Priyanshu\",\"Yuvraj\"]\n",
    "name_list[2]"
   ]
  },
  {
   "cell_type": "code",
   "execution_count": 25,
   "id": "eb64837d-d877-4449-b580-98e4072534cc",
   "metadata": {},
   "outputs": [
    {
     "data": {
      "text/plain": [
       "['Shanu', 'Shivam', 'Shalini', 'Yuvraj']"
      ]
     },
     "execution_count": 25,
     "metadata": {},
     "output_type": "execute_result"
    }
   ],
   "source": [
    "name_list=[\"Shanu\",\"Shivam\",\"Priyanshu\",\"Yuvraj\"]\n",
    "name_list[2]=\"Shalini\"\n",
    "name_list"
   ]
  },
  {
   "cell_type": "code",
   "execution_count": 26,
   "id": "afd18c0b-e8d4-460e-a214-395ab6cfc012",
   "metadata": {},
   "outputs": [
    {
     "data": {
      "text/plain": [
       "'Shivam'"
      ]
     },
     "execution_count": 26,
     "metadata": {},
     "output_type": "execute_result"
    }
   ],
   "source": [
    "name_list[-3]#Negative indexing"
   ]
  },
  {
   "cell_type": "code",
   "execution_count": 27,
   "id": "d1669223-8833-4220-84b3-88a62930f84a",
   "metadata": {},
   "outputs": [
    {
     "data": {
      "text/plain": [
       "['Shanu', 'Shivam', 'Shalini', 'Yuvraj']"
      ]
     },
     "execution_count": 27,
     "metadata": {},
     "output_type": "execute_result"
    }
   ],
   "source": [
    "#Access the elements by slicing>>\n",
    "name_list[0:]"
   ]
  },
  {
   "cell_type": "code",
   "execution_count": 29,
   "id": "a808c538-0871-4a79-8eac-17fa632e2a26",
   "metadata": {},
   "outputs": [
    {
     "data": {
      "text/plain": [
       "['Shivam', 'Shalini']"
      ]
     },
     "execution_count": 29,
     "metadata": {},
     "output_type": "execute_result"
    }
   ],
   "source": [
    "name_list[1:3]"
   ]
  },
  {
   "cell_type": "markdown",
   "id": "e2fa6044-7a92-437f-bb49-a047018798be",
   "metadata": {},
   "source": [
    "We can modify the elements in a list by indexing,count,sort,append,remove,pop,extend,insert method etc."
   ]
  },
  {
   "cell_type": "code",
   "execution_count": 37,
   "id": "425c765a-b428-4929-9465-82c161f07ea0",
   "metadata": {},
   "outputs": [
    {
     "data": {
      "text/plain": [
       "2"
      ]
     },
     "execution_count": 37,
     "metadata": {},
     "output_type": "execute_result"
    }
   ],
   "source": [
    "#Count method>>count gives the number of times a specific element appears in a list>>\n",
    "name_list=[\"Shanu\",\"Shivam\",\"Priyanshu\",\"Yuvraj\",\"Shivam\"]\n",
    "name_list.count(\"Shivam\")"
   ]
  },
  {
   "cell_type": "code",
   "execution_count": 39,
   "id": "37dcc60a-2391-4dd0-921b-487629a86680",
   "metadata": {},
   "outputs": [
    {
     "data": {
      "text/plain": [
       "['Priyanshu', 'Shanu', 'Shivam', 'Yuvraj']"
      ]
     },
     "execution_count": 39,
     "metadata": {},
     "output_type": "execute_result"
    }
   ],
   "source": [
    "#Sorting>>sorted the list \n",
    "name_list=[\"Shanu\",\"Shivam\",\"Priyanshu\",\"Yuvraj\"]\n",
    "sorted(name_list)"
   ]
  },
  {
   "cell_type": "code",
   "execution_count": 40,
   "id": "41485151-10fb-4176-8518-837c39a5c048",
   "metadata": {},
   "outputs": [
    {
     "data": {
      "text/plain": [
       "['Shanu', 'Shivam', 'Priyanshu', 'Yuvraj', 'Lucky']"
      ]
     },
     "execution_count": 40,
     "metadata": {},
     "output_type": "execute_result"
    }
   ],
   "source": [
    "#Append>>append method helps to add a new item in a list\n",
    "name_list=[\"Shanu\",\"Shivam\",\"Priyanshu\",\"Yuvraj\"]\n",
    "name_list.append(\"Lucky\")\n",
    "name_list"
   ]
  },
  {
   "cell_type": "code",
   "execution_count": 41,
   "id": "9d119694-1dc7-4636-9ee5-5368550a37d0",
   "metadata": {},
   "outputs": [
    {
     "data": {
      "text/plain": [
       "['Shanu', 'Lucky', 'Shivam', 'Priyanshu', 'Yuvraj']"
      ]
     },
     "execution_count": 41,
     "metadata": {},
     "output_type": "execute_result"
    }
   ],
   "source": [
    "#Insert>>insert a new element before any present element\n",
    "name_list=[\"Shanu\",\"Shivam\",\"Priyanshu\",\"Yuvraj\"]\n",
    "name_list.insert(1,\"Lucky\")\n",
    "name_list"
   ]
  },
  {
   "cell_type": "code",
   "execution_count": 45,
   "id": "f795e962-8af9-4f57-95a0-a5eed2c59e7d",
   "metadata": {},
   "outputs": [
    {
     "data": {
      "text/plain": [
       "['Shanu', 'Shivam', 'Priyanshu']"
      ]
     },
     "execution_count": 45,
     "metadata": {},
     "output_type": "execute_result"
    }
   ],
   "source": [
    "#Pop>>pop removes the last element \n",
    "name_list=[\"Shanu\",\"Shivam\",\"Priyanshu\",\"Yuvraj\"]\n",
    "name_list.pop()\n",
    "name_list"
   ]
  },
  {
   "cell_type": "code",
   "execution_count": 46,
   "id": "1d196acf-ba1d-4e83-a046-856d322134ec",
   "metadata": {},
   "outputs": [
    {
     "data": {
      "text/plain": [
       "['Shanu', 'Priyanshu', 'Yuvraj']"
      ]
     },
     "execution_count": 46,
     "metadata": {},
     "output_type": "execute_result"
    }
   ],
   "source": [
    "#Remove>>remove the element which you want to remove from the list\n",
    "name_list=[\"Shanu\",\"Shivam\",\"Priyanshu\",\"Yuvraj\"]\n",
    "name_list.remove(\"Shivam\")\n",
    "name_list"
   ]
  },
  {
   "cell_type": "code",
   "execution_count": 47,
   "id": "63723b27-5061-4cb3-bcc0-c2b1649467df",
   "metadata": {},
   "outputs": [
    {
     "data": {
      "text/plain": [
       "['Shanu',\n",
       " 'Shivam',\n",
       " 'Priyanshu',\n",
       " 'Yuvraj',\n",
       " 'Shikha',\n",
       " 'Shivangi',\n",
       " 'Uttam',\n",
       " 'Mahima']"
      ]
     },
     "execution_count": 47,
     "metadata": {},
     "output_type": "execute_result"
    }
   ],
   "source": [
    "#Extend>>extend the first list \n",
    "name_list_1=[\"Shanu\",\"Shivam\",\"Priyanshu\",\"Yuvraj\"]\n",
    "name_list_2=[\"Shikha\",\"Shivangi\",\"Uttam\",\"Mahima\"]\n",
    "name_list_1.extend(name_list_2)\n",
    "name_list_1"
   ]
  },
  {
   "cell_type": "markdown",
   "id": "bce51685-dc4d-4a0b-8b0c-43b7066bb79e",
   "metadata": {},
   "source": [
    "We can delete elements in a list by del or clear method."
   ]
  },
  {
   "cell_type": "code",
   "execution_count": 48,
   "id": "ecde7725-6652-4326-a86d-dc8622e3e5a1",
   "metadata": {},
   "outputs": [
    {
     "ename": "NameError",
     "evalue": "name 'name_list' is not defined",
     "output_type": "error",
     "traceback": [
      "\u001b[0;31m---------------------------------------------------------------------------\u001b[0m",
      "\u001b[0;31mNameError\u001b[0m                                 Traceback (most recent call last)",
      "Cell \u001b[0;32mIn[48], line 3\u001b[0m\n\u001b[1;32m      1\u001b[0m name_list\u001b[38;5;241m=\u001b[39m[\u001b[38;5;124m\"\u001b[39m\u001b[38;5;124mShanu\u001b[39m\u001b[38;5;124m\"\u001b[39m,\u001b[38;5;124m\"\u001b[39m\u001b[38;5;124mShivam\u001b[39m\u001b[38;5;124m\"\u001b[39m,\u001b[38;5;124m\"\u001b[39m\u001b[38;5;124mPriyanshu\u001b[39m\u001b[38;5;124m\"\u001b[39m,\u001b[38;5;124m\"\u001b[39m\u001b[38;5;124mYuvraj\u001b[39m\u001b[38;5;124m\"\u001b[39m]\n\u001b[1;32m      2\u001b[0m \u001b[38;5;28;01mdel\u001b[39;00m name_list\n\u001b[0;32m----> 3\u001b[0m \u001b[43mname_list\u001b[49m\n",
      "\u001b[0;31mNameError\u001b[0m: name 'name_list' is not defined"
     ]
    }
   ],
   "source": [
    "name_list=[\"Shanu\",\"Shivam\",\"Priyanshu\",\"Yuvraj\"]\n",
    "del name_list #Deletes the variable/list\n",
    "name_list"
   ]
  },
  {
   "cell_type": "code",
   "execution_count": 49,
   "id": "09fbb488-9397-4244-ba63-357f83c1fa67",
   "metadata": {},
   "outputs": [
    {
     "data": {
      "text/plain": [
       "[]"
      ]
     },
     "execution_count": 49,
     "metadata": {},
     "output_type": "execute_result"
    }
   ],
   "source": [
    "name_list=[\"Shanu\",\"Shivam\",\"Priyanshu\",\"Yuvraj\"]\n",
    "name_list.clear()#Clear the list's elements but variable list will not be deleted\n",
    "name_list"
   ]
  },
  {
   "cell_type": "markdown",
   "id": "ee42f720-d9b0-4a03-b812-bd834eec4499",
   "metadata": {},
   "source": [
    "### 4. Compare and contrast tuples and lists with examples."
   ]
  },
  {
   "cell_type": "markdown",
   "id": "c48f0bc3-3275-4222-9731-ca196dadec3f",
   "metadata": {},
   "source": [
    "1.Lists are mutable collections of elements whereas Tuples are immutable collections of elements."
   ]
  },
  {
   "cell_type": "code",
   "execution_count": 50,
   "id": "c521a055-1580-4995-a4c6-308f2566ec56",
   "metadata": {},
   "outputs": [
    {
     "data": {
      "text/plain": [
       "['Shanu', 'Shivam', 'Shalini', 'Yuvraj']"
      ]
     },
     "execution_count": 50,
     "metadata": {},
     "output_type": "execute_result"
    }
   ],
   "source": [
    "#lists are mutable>>Once created we can modify the elements.\n",
    "name_list=[\"Shanu\",\"Shivam\",\"Priyanshu\",\"Yuvraj\"]\n",
    "name_list[2]=\"Shalini\"\n",
    "name_list"
   ]
  },
  {
   "cell_type": "code",
   "execution_count": 52,
   "id": "a1e38809-faff-4635-9d05-8a867983fc6b",
   "metadata": {},
   "outputs": [
    {
     "ename": "TypeError",
     "evalue": "'tuple' object does not support item assignment",
     "output_type": "error",
     "traceback": [
      "\u001b[0;31m---------------------------------------------------------------------------\u001b[0m",
      "\u001b[0;31mTypeError\u001b[0m                                 Traceback (most recent call last)",
      "Cell \u001b[0;32mIn[52], line 3\u001b[0m\n\u001b[1;32m      1\u001b[0m \u001b[38;5;66;03m#tuples are immutable>>Once created the items in a tuple cannot be changed.\u001b[39;00m\n\u001b[1;32m      2\u001b[0m name_tuple\u001b[38;5;241m=\u001b[39m(\u001b[38;5;124m\"\u001b[39m\u001b[38;5;124mShanu\u001b[39m\u001b[38;5;124m\"\u001b[39m,\u001b[38;5;124m\"\u001b[39m\u001b[38;5;124mShivam\u001b[39m\u001b[38;5;124m\"\u001b[39m,\u001b[38;5;124m\"\u001b[39m\u001b[38;5;124mPriyanshu\u001b[39m\u001b[38;5;124m\"\u001b[39m,\u001b[38;5;124m\"\u001b[39m\u001b[38;5;124mYuvraj\u001b[39m\u001b[38;5;124m\"\u001b[39m)\n\u001b[0;32m----> 3\u001b[0m \u001b[43mname_tuple\u001b[49m\u001b[43m[\u001b[49m\u001b[38;5;241;43m2\u001b[39;49m\u001b[43m]\u001b[49m\u001b[38;5;241m=\u001b[39m\u001b[38;5;124m\"\u001b[39m\u001b[38;5;124mShalini\u001b[39m\u001b[38;5;124m\"\u001b[39m\n\u001b[1;32m      4\u001b[0m name_tuple\n",
      "\u001b[0;31mTypeError\u001b[0m: 'tuple' object does not support item assignment"
     ]
    }
   ],
   "source": [
    "#tuples are immutable>>Once created the items in a tuple cannot be changed.\n",
    "name_tuple=(\"Shanu\",\"Shivam\",\"Priyanshu\",\"Yuvraj\")\n",
    "name_tuple[2]=\"Shalini\"\n",
    "name_tuple"
   ]
  },
  {
   "cell_type": "markdown",
   "id": "63f84494-9762-4e32-bd3a-b984a790421f",
   "metadata": {},
   "source": [
    "2.In lists we can add, remove, or modify elements within a list using indexing and slicing. Lists are versatile for storing and managing collections that might change whereas in tuples we can access elements using indexing and slicing, but we cannot modify the content. Tuples are useful for representing fixed datasets or configurations."
   ]
  },
  {
   "cell_type": "code",
   "execution_count": 54,
   "id": "f1370214-21d2-4345-97dc-ddc230ec976b",
   "metadata": {},
   "outputs": [
    {
     "data": {
      "text/plain": [
       "['Book', 'Pencil', 'Eraser', 'Notebook']"
      ]
     },
     "execution_count": 54,
     "metadata": {},
     "output_type": "execute_result"
    }
   ],
   "source": [
    "#List>>\n",
    "list=[\"Book\",\"Pencil\",\"Eraser\"]\n",
    "list.append(\"Notebook\")#Adding a item\n",
    "list"
   ]
  },
  {
   "cell_type": "code",
   "execution_count": 56,
   "id": "1a356bea-8e62-4ef9-b504-7fd792d6970e",
   "metadata": {},
   "outputs": [
    {
     "data": {
      "text/plain": [
       "['Book', 'Pencil']"
      ]
     },
     "execution_count": 56,
     "metadata": {},
     "output_type": "execute_result"
    }
   ],
   "source": [
    "del list[2]#Removing the third item\n",
    "list"
   ]
  },
  {
   "cell_type": "code",
   "execution_count": 57,
   "id": "27629ce3-3aad-405a-b9ec-2fdbc4533b14",
   "metadata": {},
   "outputs": [
    {
     "ename": "AttributeError",
     "evalue": "'tuple' object has no attribute 'append'",
     "output_type": "error",
     "traceback": [
      "\u001b[0;31m---------------------------------------------------------------------------\u001b[0m",
      "\u001b[0;31mAttributeError\u001b[0m                            Traceback (most recent call last)",
      "Cell \u001b[0;32mIn[57], line 3\u001b[0m\n\u001b[1;32m      1\u001b[0m \u001b[38;5;66;03m#Tuple>>\u001b[39;00m\n\u001b[1;32m      2\u001b[0m t\u001b[38;5;241m=\u001b[39m(\u001b[38;5;124m\"\u001b[39m\u001b[38;5;124mBook\u001b[39m\u001b[38;5;124m\"\u001b[39m,\u001b[38;5;124m\"\u001b[39m\u001b[38;5;124mPencil\u001b[39m\u001b[38;5;124m\"\u001b[39m,\u001b[38;5;124m\"\u001b[39m\u001b[38;5;124mEraser\u001b[39m\u001b[38;5;124m\"\u001b[39m)\n\u001b[0;32m----> 3\u001b[0m \u001b[43mt\u001b[49m\u001b[38;5;241;43m.\u001b[39;49m\u001b[43mappend\u001b[49m(\u001b[38;5;124m\"\u001b[39m\u001b[38;5;124mNotebook\u001b[39m\u001b[38;5;124m\"\u001b[39m)\u001b[38;5;66;03m#Modify the list by adding a item >>it will show error because we cannot modify the content in tutple\u001b[39;00m\n\u001b[1;32m      4\u001b[0m t\n",
      "\u001b[0;31mAttributeError\u001b[0m: 'tuple' object has no attribute 'append'"
     ]
    }
   ],
   "source": [
    "#Tuple>>\n",
    "t=(\"Book\",\"Pencil\",\"Eraser\")\n",
    "t.append(\"Notebook\")#Modify the list by adding a item >>it will show error because we cannot modify the content in tutple\n",
    "t"
   ]
  },
  {
   "cell_type": "code",
   "execution_count": 58,
   "id": "e15c7b9c-f577-4a27-95ff-776292871ffc",
   "metadata": {},
   "outputs": [
    {
     "data": {
      "text/plain": [
       "'Pencil'"
      ]
     },
     "execution_count": 58,
     "metadata": {},
     "output_type": "execute_result"
    }
   ],
   "source": [
    "t=(\"Book\",\"Pencil\",\"Eraser\")\n",
    "t[1]#access the elements "
   ]
  },
  {
   "cell_type": "code",
   "execution_count": 59,
   "id": "3ffc49fa-a90e-4636-9169-663675ce4b41",
   "metadata": {},
   "outputs": [
    {
     "data": {
      "text/plain": [
       "0"
      ]
     },
     "execution_count": 59,
     "metadata": {},
     "output_type": "execute_result"
    }
   ],
   "source": [
    "t.index(\"Book\")#index of element"
   ]
  },
  {
   "cell_type": "markdown",
   "id": "22d9ea0a-9c51-40c5-a5a9-de0411e30db0",
   "metadata": {},
   "source": [
    "### 5. Describe the key features of sets and provide examples of their use."
   ]
  },
  {
   "cell_type": "markdown",
   "id": "b0a6c970-3d0d-4be0-8ea5-c5c573e85a80",
   "metadata": {
    "tags": []
   },
   "source": [
    "The key features of sets are:\n",
    "\n",
    "1.Sets are unordered and unique collection of elements.\n",
    "\n",
    "2.Sets does not allow duplicate elements.\n",
    "  \n",
    "3.Sets are mutable.\n",
    "\n",
    "4.Sets are useful for checking membership (if an item exists) or finding the intersection/difference between sets.\n",
    "\n",
    "5.We can add or remove elements from a set, but we cannot access elements by index (since order doesn't matter).\n",
    "\n",
    "6.Set operations like union (combining elements), intersection (finding common elements), and difference (finding elements in one set but not the other) are efficient."
   ]
  },
  {
   "cell_type": "code",
   "execution_count": 60,
   "id": "6c474b32-617a-4329-b28c-1063eea20a41",
   "metadata": {},
   "outputs": [
    {
     "data": {
      "text/plain": [
       "{1, 2, 'Pwskills', 'keshav'}"
      ]
     },
     "execution_count": 60,
     "metadata": {},
     "output_type": "execute_result"
    }
   ],
   "source": [
    "#Sets are unordered and unique collection of elements.\n",
    "s={1,2,1,2,2,2,\"Pwskills\",\"keshav\",\"keshav\"}\n",
    "s"
   ]
  },
  {
   "cell_type": "code",
   "execution_count": 61,
   "id": "a772d2c4-514d-4c6c-bd72-0fb89c7a5d21",
   "metadata": {
    "tags": []
   },
   "outputs": [
    {
     "data": {
      "text/plain": [
       "{'keshav', 'priya', 'shanu'}"
      ]
     },
     "execution_count": 61,
     "metadata": {},
     "output_type": "execute_result"
    }
   ],
   "source": [
    "#Sets does not allow duplicate elements.\n",
    "s={\"shanu\",\"priya\",\"shanu\",\"keshav\",\"shanu\"}\n",
    "s"
   ]
  },
  {
   "cell_type": "code",
   "execution_count": 63,
   "id": "bf8b8a07-a6d0-4b41-8438-96e8bb2b10ea",
   "metadata": {
    "tags": []
   },
   "outputs": [
    {
     "data": {
      "text/plain": [
       "{'kartik', 'priya', 'shanu', 'shivam'}"
      ]
     },
     "execution_count": 63,
     "metadata": {},
     "output_type": "execute_result"
    }
   ],
   "source": [
    "#Sets are mutable.\n",
    "s={\"shanu\",\"priya\",\"kartik\"}\n",
    "s.add(\"shivam\")\n",
    "s"
   ]
  },
  {
   "cell_type": "code",
   "execution_count": 64,
   "id": "2291ced6-be65-4aba-87a3-b9592884971d",
   "metadata": {},
   "outputs": [
    {
     "data": {
      "text/plain": [
       "'shivam'"
      ]
     },
     "execution_count": 64,
     "metadata": {},
     "output_type": "execute_result"
    }
   ],
   "source": [
    "s.pop()"
   ]
  },
  {
   "cell_type": "code",
   "execution_count": 73,
   "id": "8d90db68-91f3-41fb-a670-cc0819823578",
   "metadata": {},
   "outputs": [
    {
     "data": {
      "text/plain": [
       "{'kartik', 'shanu'}"
      ]
     },
     "execution_count": 73,
     "metadata": {},
     "output_type": "execute_result"
    }
   ],
   "source": [
    "s={\"shanu\",\"priya\",\"kartik\"}\n",
    "s.remove(\"priya\")\n",
    "s"
   ]
  },
  {
   "cell_type": "code",
   "execution_count": 76,
   "id": "39222118-d336-454a-a189-32bc265b88f9",
   "metadata": {},
   "outputs": [
    {
     "data": {
      "text/plain": [
       "{'S', 'a', 'h', 'i', 'kartik', 'm', 'priya', 'shanu', 'v'}"
      ]
     },
     "execution_count": 76,
     "metadata": {},
     "output_type": "execute_result"
    }
   ],
   "source": [
    "s={\"shanu\",\"priya\",\"kartik\"}\n",
    "s.update(\"Shivam\")#update takes iteration\n",
    "s"
   ]
  },
  {
   "cell_type": "code",
   "execution_count": 77,
   "id": "4fd07499-1b82-4d0a-9dd4-229ca87ba99c",
   "metadata": {},
   "outputs": [
    {
     "data": {
      "text/plain": [
       "True"
      ]
     },
     "execution_count": 77,
     "metadata": {},
     "output_type": "execute_result"
    }
   ],
   "source": [
    "#Sets are useful for checking membership (if an item exists) or finding the intersection/difference between sets.\n",
    "s={\"shanu\",\"priya\",\"kartik\"}\n",
    "\"shanu\" in s"
   ]
  },
  {
   "cell_type": "code",
   "execution_count": 78,
   "id": "961af0cd-4ec7-4940-994b-68fce33890ca",
   "metadata": {},
   "outputs": [
    {
     "data": {
      "text/plain": [
       "False"
      ]
     },
     "execution_count": 78,
     "metadata": {},
     "output_type": "execute_result"
    }
   ],
   "source": [
    "\"shivam\" in s"
   ]
  },
  {
   "cell_type": "code",
   "execution_count": 79,
   "id": "08e1a47d-c05b-4627-95d3-386d4ac115e9",
   "metadata": {},
   "outputs": [
    {
     "ename": "TypeError",
     "evalue": "'set' object is not subscriptable",
     "output_type": "error",
     "traceback": [
      "\u001b[0;31m---------------------------------------------------------------------------\u001b[0m",
      "\u001b[0;31mTypeError\u001b[0m                                 Traceback (most recent call last)",
      "Cell \u001b[0;32mIn[79], line 3\u001b[0m\n\u001b[1;32m      1\u001b[0m \u001b[38;5;66;03m#We can add or remove elements from a set, but we cannot access elements by index (since order doesn't matter).\u001b[39;00m\n\u001b[1;32m      2\u001b[0m s\u001b[38;5;241m=\u001b[39m{\u001b[38;5;124m\"\u001b[39m\u001b[38;5;124mshanu\u001b[39m\u001b[38;5;124m\"\u001b[39m,\u001b[38;5;124m\"\u001b[39m\u001b[38;5;124mpriya\u001b[39m\u001b[38;5;124m\"\u001b[39m,\u001b[38;5;124m\"\u001b[39m\u001b[38;5;124mkartik\u001b[39m\u001b[38;5;124m\"\u001b[39m}\n\u001b[0;32m----> 3\u001b[0m \u001b[43ms\u001b[49m\u001b[43m[\u001b[49m\u001b[38;5;241;43m0\u001b[39;49m\u001b[43m]\u001b[49m\n",
      "\u001b[0;31mTypeError\u001b[0m: 'set' object is not subscriptable"
     ]
    }
   ],
   "source": [
    "#We can add or remove elements from a set, but we cannot access elements by index (since order doesn't matter).\n",
    "s={\"shanu\",\"priya\",\"kartik\"}\n",
    "s[0]     # unordered >>indexing not possible"
   ]
  },
  {
   "cell_type": "code",
   "execution_count": 80,
   "id": "b053bbfa-30e2-48f0-977a-c648b0ad3cdd",
   "metadata": {},
   "outputs": [
    {
     "data": {
      "text/plain": [
       "{1, 2, 3, 5, 6}"
      ]
     },
     "execution_count": 80,
     "metadata": {},
     "output_type": "execute_result"
    }
   ],
   "source": [
    "#Set operations like union (combining elements), intersection (finding common elements), and difference (finding elements in one set but not the other) are efficient.\n",
    "s1={1,2,3}\n",
    "s2={3,5,6}\n",
    "s1|s2 #union>>combine all the elements"
   ]
  },
  {
   "cell_type": "code",
   "execution_count": 81,
   "id": "89d17fdf-6b6c-41fa-8b7e-3f86bd810814",
   "metadata": {},
   "outputs": [
    {
     "data": {
      "text/plain": [
       "{3}"
      ]
     },
     "execution_count": 81,
     "metadata": {},
     "output_type": "execute_result"
    }
   ],
   "source": [
    "s1 & s2 #intersection>>common elements"
   ]
  },
  {
   "cell_type": "code",
   "execution_count": 82,
   "id": "2f0b85e6-07af-4acb-b6f1-d5e74175ccfe",
   "metadata": {},
   "outputs": [
    {
     "data": {
      "text/plain": [
       "{1, 2}"
      ]
     },
     "execution_count": 82,
     "metadata": {},
     "output_type": "execute_result"
    }
   ],
   "source": [
    "s1-s2 #difference>>elements present in only first set"
   ]
  },
  {
   "cell_type": "code",
   "execution_count": 83,
   "id": "bfb07333-55d7-42b1-b6f5-6ed05321f757",
   "metadata": {},
   "outputs": [
    {
     "data": {
      "text/plain": [
       "{1, 2, 5, 6}"
      ]
     },
     "execution_count": 83,
     "metadata": {},
     "output_type": "execute_result"
    }
   ],
   "source": [
    "s1^s2 #symmetric difference>>removes the common part"
   ]
  },
  {
   "cell_type": "markdown",
   "id": "deda7e21-c3bc-45be-8c01-00c8ac3f1740",
   "metadata": {},
   "source": [
    "### 6. Discuss the use cases of tuples and sets in Python programming."
   ]
  },
  {
   "cell_type": "markdown",
   "id": "edbf4239-427a-4b2f-85a0-3f950158ac7e",
   "metadata": {},
   "source": [
    "Tuples are immutable collection of variables so they can't be changed after creation while sets are mutable collection of variables,so sets can be changed after creation. "
   ]
  },
  {
   "cell_type": "code",
   "execution_count": 84,
   "id": "89e2bc3d-6174-413d-b38e-ebc2cd7f233c",
   "metadata": {},
   "outputs": [
    {
     "ename": "TypeError",
     "evalue": "'tuple' object does not support item assignment",
     "output_type": "error",
     "traceback": [
      "\u001b[0;31m---------------------------------------------------------------------------\u001b[0m",
      "\u001b[0;31mTypeError\u001b[0m                                 Traceback (most recent call last)",
      "Cell \u001b[0;32mIn[84], line 3\u001b[0m\n\u001b[1;32m      1\u001b[0m \u001b[38;5;66;03m#use case of tuples>>use tuples as a data structure where we dont want to modify the data>>\u001b[39;00m\n\u001b[1;32m      2\u001b[0m empid\u001b[38;5;241m=\u001b[39m(\u001b[38;5;241m1\u001b[39m,\u001b[38;5;241m2\u001b[39m,\u001b[38;5;241m3\u001b[39m,\u001b[38;5;241m4\u001b[39m,\u001b[38;5;241m5\u001b[39m)\n\u001b[0;32m----> 3\u001b[0m \u001b[43mempid\u001b[49m\u001b[43m[\u001b[49m\u001b[38;5;241;43m1\u001b[39;49m\u001b[43m]\u001b[49m\u001b[38;5;241m=\u001b[39m\u001b[38;5;241m100\u001b[39m\n",
      "\u001b[0;31mTypeError\u001b[0m: 'tuple' object does not support item assignment"
     ]
    }
   ],
   "source": [
    "#use case of tuples>>use tuples as a data structure where we dont want to modify the data>>\n",
    "empid=(1,2,3,4,5)\n",
    "empid[1]=100\n"
   ]
  },
  {
   "cell_type": "markdown",
   "id": "85804af0-0d90-4c9c-9a9c-bef9541bbce2",
   "metadata": {},
   "source": [
    " One of the analogy of tuple: Imagine a museum exhibit with artifacts in a fixed display case. These artifacts (data) are fixed in their place (immutable) and cannot be rearranged or removed, ensuring their preservation."
   ]
  },
  {
   "cell_type": "code",
   "execution_count": 85,
   "id": "d5ef03f4-48cb-44f5-a3ae-bf6415e9266f",
   "metadata": {},
   "outputs": [
    {
     "data": {
      "text/plain": [
       "{1, 2, 3, 'shanu', 'shivam'}"
      ]
     },
     "execution_count": 85,
     "metadata": {},
     "output_type": "execute_result"
    }
   ],
   "source": [
    "#use case of set>>converting list to set\n",
    "l=[1,2,3,\"shanu\",\"shanu\",\"shivam\",\"shivam\"]\n",
    "s=set(l)\n",
    "s"
   ]
  },
  {
   "cell_type": "markdown",
   "id": "c09cd5cb-2589-46f1-a839-df5c957a6309",
   "metadata": {},
   "source": [
    "One of the analogy of set: Imagine a set of unique keys on a key ring. The order we put them on the ring doesn't matter, and we can quickly check if a specific key (element) is present on the ring."
   ]
  },
  {
   "cell_type": "markdown",
   "id": "48de3cc3-89de-4dcb-a9b3-7d94e338bc5d",
   "metadata": {},
   "source": [
    "### 7. Describe how to add , modify ,  and delete items in a dictionary with examples."
   ]
  },
  {
   "cell_type": "code",
   "execution_count": 86,
   "id": "7d47089b-1be1-4b1c-8853-08850bafa305",
   "metadata": {},
   "outputs": [
    {
     "data": {
      "text/plain": [
       "{'name': 'Shalini', 'email': 'shanu05955@gmail.com', 'contact': 8766386441}"
      ]
     },
     "execution_count": 86,
     "metadata": {},
     "output_type": "execute_result"
    }
   ],
   "source": [
    "#adding the new value pair to dictionary>>\n",
    "dict={\"name\":\"Shalini\",\"email\":\"shanu05955@gmail.com\",\"contact\":8766386441}\n",
    "dict"
   ]
  },
  {
   "cell_type": "code",
   "execution_count": 87,
   "id": "83def598-1b60-4a46-b75f-7d469d889868",
   "metadata": {},
   "outputs": [
    {
     "data": {
      "text/plain": [
       "dict"
      ]
     },
     "execution_count": 87,
     "metadata": {},
     "output_type": "execute_result"
    }
   ],
   "source": [
    "type(dict)"
   ]
  },
  {
   "cell_type": "code",
   "execution_count": 89,
   "id": "e4d3e2b0-c8a8-4c8a-9c93-1551b1566f0a",
   "metadata": {},
   "outputs": [
    {
     "data": {
      "text/plain": [
       "{'name': 'Shalini',\n",
       " 'email': 'shanu05955@gmail.com',\n",
       " 'contact': 8766386441,\n",
       " 'address': 'New_Delhi'}"
      ]
     },
     "execution_count": 89,
     "metadata": {},
     "output_type": "execute_result"
    }
   ],
   "source": [
    "#add our address to the dictionary>>\n",
    "dict[\"address\"]=\"New_Delhi\"\n",
    "dict"
   ]
  },
  {
   "cell_type": "code",
   "execution_count": 90,
   "id": "346e6108-b8ae-4225-afeb-b31888e78fee",
   "metadata": {},
   "outputs": [
    {
     "data": {
      "text/plain": [
       "{'name': 'Shanu',\n",
       " 'email': 'shanu05955@gmail.com',\n",
       " 'contact': 8766386441,\n",
       " 'address': 'New_Delhi'}"
      ]
     },
     "execution_count": 90,
     "metadata": {},
     "output_type": "execute_result"
    }
   ],
   "source": [
    "#modify >>\n",
    "dict[\"name\"]=\"Shanu\"\n",
    "dict"
   ]
  },
  {
   "cell_type": "code",
   "execution_count": 91,
   "id": "54ccc2fd-67b2-4eae-b42a-3b467524de0f",
   "metadata": {},
   "outputs": [
    {
     "data": {
      "text/plain": [
       "{'name': 'Shanu', 'email': 'shanu05955@gmail.com', 'contact': 8766386441}"
      ]
     },
     "execution_count": 91,
     "metadata": {},
     "output_type": "execute_result"
    }
   ],
   "source": [
    "dict={\"name\":\"Shalini\",\"email\":\"shanu05955@gmail.com\",\"contact\":8766386441,\"name\":\"Shanu\"} # always the last key value will be used>>\n",
    "dict"
   ]
  },
  {
   "cell_type": "code",
   "execution_count": 95,
   "id": "8451d21c-16b5-4ad6-a189-56fc32372772",
   "metadata": {},
   "outputs": [
    {
     "data": {
      "text/plain": [
       "{'name': 'Shalini', 'contact': 8766386441}"
      ]
     },
     "execution_count": 95,
     "metadata": {},
     "output_type": "execute_result"
    }
   ],
   "source": [
    "#deletion of items >>delete a key value pair>>\n",
    "dict={\"name\":\"Shalini\",\"email\":\"shanu05955@gmail.com\",\"contact\":8766386441}\n",
    "del dict[\"email\"]\n",
    "dict"
   ]
  },
  {
   "cell_type": "code",
   "execution_count": 96,
   "id": "3cca5a64-a835-44c0-92c3-dcc8eb44264d",
   "metadata": {},
   "outputs": [
    {
     "data": {
      "text/plain": [
       "{}"
      ]
     },
     "execution_count": 96,
     "metadata": {},
     "output_type": "execute_result"
    }
   ],
   "source": [
    "dict.clear()#empty dictionary\n",
    "dict"
   ]
  },
  {
   "cell_type": "code",
   "execution_count": 103,
   "id": "e8a37cc2-5303-40fd-90e5-0d82e21be97b",
   "metadata": {},
   "outputs": [
    {
     "data": {
      "text/plain": [
       "{'name': 'Shalini', 'email': 'shanu05955@gmail.com'}"
      ]
     },
     "execution_count": 103,
     "metadata": {},
     "output_type": "execute_result"
    }
   ],
   "source": [
    "dict={\"name\":\"Shalini\",\"email\":\"shanu05955@gmail.com\",\"contact\":8766386441}\n",
    "dict.pop(\"contact\")\n",
    "dict"
   ]
  },
  {
   "cell_type": "markdown",
   "id": "49e55669-38f7-4698-bf2f-9cb0989a58b2",
   "metadata": {},
   "source": [
    "### 8. Discuss the importance of dictionary keys being immutable and provide examples."
   ]
  },
  {
   "cell_type": "markdown",
   "id": "31aa4445-295e-4ef2-9c9a-adf073395c30",
   "metadata": {},
   "source": [
    "The importance of dictionary keys being immutable to ensure that the dictionary can efficiently look up values based on\n",
    "their keys.If a key was mutable,its hash value could change ,making it impossible to find the associated value in the dictionary."
   ]
  },
  {
   "cell_type": "code",
   "execution_count": 105,
   "id": "0429ac10-4d08-4f71-b029-b8752815091d",
   "metadata": {},
   "outputs": [
    {
     "ename": "TypeError",
     "evalue": "unhashable type: 'list'",
     "output_type": "error",
     "traceback": [
      "\u001b[0;31m---------------------------------------------------------------------------\u001b[0m",
      "\u001b[0;31mTypeError\u001b[0m                                 Traceback (most recent call last)",
      "Cell \u001b[0;32mIn[105], line 2\u001b[0m\n\u001b[1;32m      1\u001b[0m \u001b[38;5;66;03m#if the dictionary keys was mutableq>>\u001b[39;00m\n\u001b[0;32m----> 2\u001b[0m d\u001b[38;5;241m=\u001b[39m{[\u001b[38;5;241m1\u001b[39m,\u001b[38;5;241m2\u001b[39m,\u001b[38;5;241m3\u001b[39m]:\u001b[38;5;124m\"\u001b[39m\u001b[38;5;124mShyam\u001b[39m\u001b[38;5;124m\"\u001b[39m}\n\u001b[1;32m      3\u001b[0m d\n",
      "\u001b[0;31mTypeError\u001b[0m: unhashable type: 'list'"
     ]
    }
   ],
   "source": [
    "#if the dictionary keys was mutableq>>\n",
    "d={[1,2,3]:\"Shyam\"}#list is used a key\n",
    "d"
   ]
  },
  {
   "cell_type": "code",
   "execution_count": 106,
   "id": "2a40ee84-2663-4108-a7ed-f7d1bf3aadc5",
   "metadata": {},
   "outputs": [
    {
     "data": {
      "text/plain": [
       "{(1, 2, 3): 'abc'}"
      ]
     },
     "execution_count": 106,
     "metadata": {},
     "output_type": "execute_result"
    }
   ],
   "source": [
    "d={(1,2,3):\"abc\"}#tuple is used as a key\n",
    "d"
   ]
  },
  {
   "cell_type": "code",
   "execution_count": 107,
   "id": "bad14ec7-79c6-48db-b5b1-af42d5c6b6c0",
   "metadata": {},
   "outputs": [
    {
     "ename": "TypeError",
     "evalue": "unhashable type: 'set'",
     "output_type": "error",
     "traceback": [
      "\u001b[0;31m---------------------------------------------------------------------------\u001b[0m",
      "\u001b[0;31mTypeError\u001b[0m                                 Traceback (most recent call last)",
      "Cell \u001b[0;32mIn[107], line 1\u001b[0m\n\u001b[0;32m----> 1\u001b[0m d\u001b[38;5;241m=\u001b[39m{{\u001b[38;5;241m1\u001b[39m,\u001b[38;5;241m2\u001b[39m,\u001b[38;5;241m3\u001b[39m}:\u001b[38;5;124m\"\u001b[39m\u001b[38;5;124mShalini\u001b[39m\u001b[38;5;124m\"\u001b[39m}\n\u001b[1;32m      2\u001b[0m d\n",
      "\u001b[0;31mTypeError\u001b[0m: unhashable type: 'set'"
     ]
    }
   ],
   "source": [
    "d={{1,2,3}:\"Shalini\"}#set is used as a key\n",
    "d"
   ]
  },
  {
   "cell_type": "code",
   "execution_count": 108,
   "id": "66cb0c5c-f6b6-4339-90d6-86f46a3690d4",
   "metadata": {},
   "outputs": [
    {
     "ename": "TypeError",
     "evalue": "unhashable type: 'dict'",
     "output_type": "error",
     "traceback": [
      "\u001b[0;31m---------------------------------------------------------------------------\u001b[0m",
      "\u001b[0;31mTypeError\u001b[0m                                 Traceback (most recent call last)",
      "Cell \u001b[0;32mIn[108], line 1\u001b[0m\n\u001b[0;32m----> 1\u001b[0m d\u001b[38;5;241m=\u001b[39m{{\u001b[38;5;124m\"\u001b[39m\u001b[38;5;124mkey\u001b[39m\u001b[38;5;124m\"\u001b[39m:\u001b[38;5;241m123\u001b[39m}:\u001b[38;5;124m\"\u001b[39m\u001b[38;5;124majay\u001b[39m\u001b[38;5;124m\"\u001b[39m}\n\u001b[1;32m      2\u001b[0m d\n",
      "\u001b[0;31mTypeError\u001b[0m: unhashable type: 'dict'"
     ]
    }
   ],
   "source": [
    "d={{\"key\":123}:\"ajay\"}#dictionary is used as a key\n",
    "d"
   ]
  },
  {
   "cell_type": "markdown",
   "id": "6a4c5ec4-fc4e-4f66-9862-e5cda678946c",
   "metadata": {},
   "source": [
    "Hence,only strings and numbers can be used as a key of dictionary."
   ]
  },
  {
   "cell_type": "code",
   "execution_count": null,
   "id": "9076eb69-426f-445d-9fc7-065f4f94c8e7",
   "metadata": {},
   "outputs": [],
   "source": []
  }
 ],
 "metadata": {
  "kernelspec": {
   "display_name": "Python 3 (ipykernel)",
   "language": "python",
   "name": "python3"
  },
  "language_info": {
   "codemirror_mode": {
    "name": "ipython",
    "version": 3
   },
   "file_extension": ".py",
   "mimetype": "text/x-python",
   "name": "python",
   "nbconvert_exporter": "python",
   "pygments_lexer": "ipython3",
   "version": "3.10.8"
  }
 },
 "nbformat": 4,
 "nbformat_minor": 5
}
